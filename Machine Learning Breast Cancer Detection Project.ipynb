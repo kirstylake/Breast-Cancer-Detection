{
 "cells": [
  {
   "cell_type": "markdown",
   "id": "fa28b6d5",
   "metadata": {},
   "source": [
    "# Introduction"
   ]
  },
  {
   "cell_type": "markdown",
   "id": "d052396c",
   "metadata": {},
   "source": [
    "A machine learning project aimed at diagnosing skin cancer through the analysis of skin lesion images represents an exciting and impactful application of artificial intelligence (AI) in healthcare. Skin cancer, being one of the most common types of cancer globally, necessitates early detection and treatment to improve patient outcomes. This project seeks to leverage the advancements in machine learning and image processing to create a model capable of accurately identifying and classifying various types of skin cancer, including melanoma, which is the deadliest form.\n",
    "\n",
    "This report will utilize the **Universal Workflow of Machine Learning**[<a href=\"#ref-fc-dlwp\">1</a>][1] to build a final model that produces the best results of the chosen dataset using exclusively `Dense` and `Dropout` layers as outlined by the instructions for this final"
   ]
  },
  {
   "cell_type": "markdown",
   "id": "55a61b1e",
   "metadata": {},
   "source": [
    "# Background"
   ]
  },
  {
   "cell_type": "markdown",
   "id": "0f037613",
   "metadata": {},
   "source": [
    "Skin cancer classification has traditionally been performed by dermatologists through visual examination and dermatoscopic analysis. However, this process can be subjective and depends heavily on the clinician's experience. With the rise of deep learning, particularly Convolutional Neural Networks (CNNs), there's an opportunity to augment the diagnostic process, offering a second opinion that's quick, scalable, and potentially more accurate in certain contexts."
   ]
  },
  {
   "cell_type": "markdown",
   "id": "c0f84767",
   "metadata": {},
   "source": [
    "As the leading healthcare organization for informatics in medical imaging, the Society for Imaging Informatics in Medicine (SIIM)'s mission is to advance medical imaging informatics through education, research, and innovation in a multi-disciplinary community. SIIM is joined by the International Skin Imaging Collaboration (ISIC), an international effort to improve melanoma diagnosis. The ISIC Archive contains the largest publicly available collection of quality-controlled dermoscopic images of skin lesions\n",
    "\n",
    "The most common kind of cancer is skin cancer. Even though melanoma is the rarest type of skin cancer, it accounts for 75% of skin cancer-related deaths. In 2020, the American Cancer Society predicts that more than 100,000 new cases of melanoma will be identified. It is anticipated that the illness would claim the lives of about 7,000 individuals. Similar to other malignancies, treatment can be more successful if there is early and precise detection, which may be made possible by data analytics."
   ]
  },
  {
   "cell_type": "markdown",
   "id": "244c3a6f",
   "metadata": {},
   "source": [
    "# Objectives"
   ]
  },
  {
   "cell_type": "markdown",
   "id": "2664f8e2",
   "metadata": {},
   "source": [
    "- Develop a Machine Learning Model: To train a CNN that can classify skin lesion images into benign and malignant categories, as well as identify specific types of skin cancer.\n",
    "- Dataset Utilization: To utilize a comprehensive dataset of dermatoscopic images, ensuring the model learns from high-quality, varied examples of different skin types and cancer stages.\n",
    "- Accuracy and Reliability: To achieve a high degree of accuracy and reliability in classification, comparable or superior to traditional methods employed by dermatologists."
   ]
  },
  {
   "cell_type": "markdown",
   "id": "280fe08f",
   "metadata": {},
   "source": [
    "# Methodology"
   ]
  },
  {
   "cell_type": "markdown",
   "id": "a04d6fa0",
   "metadata": {},
   "source": [
    "Over the years, it has been noted that patients with similar cancer types exhibit hidden patterns. Deep learning networks have also been found to be particularly good at modeling patterns that are not immediately obvious.\n",
    "\n",
    "This project aims to correctly identify images of skin lesions as one of the following:\n",
    "- Melanoma\n",
    "- Melanocytic nevus\n",
    "- Basal cell carcinoma\n",
    "- Actinic keratosis\n",
    "- Benign keratosis (solar lentigo / seborrheic keratosis / lichen planus-like keratosis)\n",
    "- Dermatofibroma\n",
    "- Vascular lesion\n",
    "- Squamous cell carcinoma\n",
    "- None of the above\n",
    "\n",
    "This is going to use the \"Skin Lesion Images for Melanoma Classification\" dataset, which is a public licenced dataset hosted by kaggle which is based on the 2019 International Skin Imaging Collaboration (ISIC) dataset.\n",
    " - https://www.kaggle.com/datasets/andrewmvd/isic-2019\n",
    " \n",
    "Tensorflow, Keras, and Python will be used for the analysis of this dataset. Training a deep learning network to effectively model the patterns of the skin lesions is the goal. In order to investigate the design and building of deep learning networks, this study will employ a deductive approach, starting with a model that can outperform the common sense baseline."
   ]
  },
  {
   "cell_type": "markdown",
   "id": "9f34fbfd",
   "metadata": {},
   "source": [
    "### Dataset Description"
   ]
  },
  {
   "cell_type": "markdown",
   "id": "743f501b",
   "metadata": {},
   "source": [
    "This dataset is hosted by kaggle: https://www.kaggle.com/datasets/andrewmvd/isic-2019\n",
    "The ISIC dataset has 6,834 Registered Users \n",
    "With 76,108 Public Images and 240,655 Total Images https://www.isic-archive.com/\n",
    "\n",
    "There are 25,331 photos in the ISIC 2019 dataset (which includes pictures from 2017 and 2018) that can be used to classify dermoscopic images into nine distinct diagnostic categories. This is the data subset that will be used in this project."
   ]
  },
  {
   "cell_type": "markdown",
   "id": "c4a0652c",
   "metadata": {},
   "source": [
    "The following python packages will meused to model and display the images:"
   ]
  },
  {
   "cell_type": "markdown",
   "id": "95dedca4",
   "metadata": {},
   "source": [
    "### Setup Jupyter Environment"
   ]
  },
  {
   "cell_type": "markdown",
   "id": "56859ac2-c404-4e3b-bb26-e43b0c57eb54",
   "metadata": {},
   "source": [
    "The following section handles the installation of all required dependencies used when running the experimentation with **Tensorflow** and **Keras**<br />"
   ]
  },
  {
   "cell_type": "code",
   "execution_count": 2,
   "id": "76b4835c",
   "metadata": {},
   "outputs": [],
   "source": [
    "# system\n",
    "import os\n",
    "import pathlib\n",
    "\n",
    "# Mathematical Computation\n",
    "import numpy as np\n",
    "import pandas as pd # data processing, CSV file I/O (e.g. pd.read_csv)\n",
    "\n",
    "%matplotlib inline\n",
    "\n",
    "import matplotlib.pyplot as plt #used for plotting and analyzing data\n",
    "\n",
    "#used for image display\n",
    "import PIL \n",
    "from PIL import Image\n",
    "\n",
    "from pathlib import Path\n",
    "\n",
    "from tqdm import tqdm\n",
    "\n",
    "# Machine Learning Library\n",
    "import tensorflow as tf \n",
    "from tensorflow import keras\n",
    "from tensorflow.keras.preprocessing.image import ImageDataGenerator\n",
    "from tensorflow.keras.layers import Dense, Conv2D, Flatten, Dropout, MaxPooling2D\n",
    "from tensorflow.python.keras.models import Sequential\n",
    "from tensorflow.keras import (layers, models, losses, optimizers, regularizers, callbacks)\n",
    "from typing import List, Dict, Tuple, Callable, Union, Optional, Any\n",
    "\n",
    "import functools\n",
    "import itertools\n",
    "import os\n",
    "\n",
    "import numpy as np\n",
    "\n",
    "import matplotlib.pyplot as plt\n",
    "from matplotlib.ticker import PercentFormatter\n",
    "\n",
    "\n",
    "# plotting\n",
    "import matplotlib.pyplot as plt\n",
    "import seaborn as sns"
   ]
  },
  {
   "cell_type": "code",
   "execution_count": null,
   "id": "cfce7775-ca4a-46c0-9d5c-7d6186710687",
   "metadata": {},
   "outputs": [],
   "source": []
  },
  {
   "cell_type": "markdown",
   "id": "f3475ef0",
   "metadata": {},
   "source": [
    "The data was processed into a format suitable for Tensorflow, graph learning model output, and image decoding for simple presentation using the following assistance routines."
   ]
  },
  {
   "cell_type": "markdown",
   "id": "85f95010-edcb-42fc-b155-c12c95cd1b22",
   "metadata": {},
   "source": [
    "Initially, some hyper parameters are defined for training use. Not all hyper parameters are defined below, because some of them (e.g.: `learning_rate`)<br />\n",
    "are far too specific to some components of the architecture (e.g.: the `optimiser`)."
   ]
  },
  {
   "cell_type": "code",
   "execution_count": 1,
   "id": "611832d4-63cc-4a4c-a6e7-65e09fd0c17e",
   "metadata": {},
   "outputs": [],
   "source": [
    "# This sets the defaault hyperparameters used for the training \n",
    "# this can be overriden by passing in the specific hyperparameter names as arguements\n",
    "\n",
    "train_hyperparams = dict(\n",
    "    epochs=100,\n",
    "    batch_size=512,\n",
    ")"
   ]
  },
  {
   "cell_type": "markdown",
   "id": "b5d64e4f",
   "metadata": {},
   "source": [
    "### Helper Functions"
   ]
  },
  {
   "cell_type": "code",
   "execution_count": 2,
   "id": "501ab8da",
   "metadata": {},
   "outputs": [],
   "source": [
    "#             Image Processing\n",
    "#----------------------------------------------#\n",
    "\n",
    "# decode image\n",
    "def decode_image(file_path):\n",
    "    img = tf.io.read_file(file_path)\n",
    "    img = tf.image.decode_png(img)\n",
    "    \n",
    "    # normalize the image\n",
    "    img = tf.cast(img, tf.float32) / 255.0\n",
    "    img = tf.image.resize(img, (224,224))\n",
    "    \n",
    "    # convert image from grayscale to rgb (some images are grayscale and others are RGB)\n",
    "    if tf.shape(img)[2] == tf.convert_to_tensor(1): \n",
    "        img = tf.image.grayscale_to_rgb(img)\n",
    "    return img\n",
    "\n",
    "# ouputting the image and class label\n",
    "def convert_ds(file_path):\n",
    "    img = decode_image(file_path)\n",
    "    label = tf.strings.split(file_path, os.path.sep)[-2] == classes\n",
    "    return img, tf.argmax(label)\n",
    "\n",
    "#            Image Display\n",
    "#----------------------------------------------#\n",
    "#draws a grid on the image display\n",
    "sns.set(style=\"whitegrid\")\n",
    "\n",
    "# Displays a single image with class label\n",
    "def show_single(img, label):\n",
    "    plt.imshow(img)\n",
    "    plt.title(label)\n",
    "    \n",
    "# Displays a grid of sample images with attached class labels\n",
    "def show_batch(img_batch, label_batch):\n",
    "    figure = plt.figure(figsize=(12, 10))\n",
    "    n = 16\n",
    "    sqrt = int(np.sqrt(n))\n",
    "    for i in range(n):\n",
    "        _ = plt.subplot(sqrt, sqrt, i + 1)\n",
    "        show_single(img_batch[i], classes[label_batch[i]])\n",
    "        plt.axis('off')\n",
    "    plt.show()\n",
    "\n",
    "#             Dataset Orginisation\n",
    "#----------------------------------------------#\n",
    "def configure_for_training(data, is_train=False):\n",
    "    data = data.cache()\n",
    "    data = data.shuffle(buffer_size=300)\n",
    "    data = data.batch(32)\n",
    "    # if is_train:\n",
    "        # do some augmentations\n",
    "    data = data.prefetch(buffer_size=tf.data.AUTOTUNE)\n",
    "    return data    \n",
    "    \n",
    "#             Callback functions\n",
    "#----------------------------------------------#\n",
    "#Displays a spinning icon while the model runs\n",
    "class CustomCallback(tf.keras.callbacks.Callback):\n",
    "    def on_epoch_begin(self, epoch, logs=None):\n",
    "        c = ['\\b|', '\\b/', '\\b-', '\\b\\\\'] \n",
    "        print(c[epoch % 4], end='')\n",
    "    def on_epoch_end(self, epoch, logs=None):\n",
    "        print('\\b', end='')\n",
    "\n",
    "# #stops the training when the model stops changing\n",
    "# earlystoper = tf.keras.callbacks.EarlyStopping(\n",
    "#                                             monitor='val_loss', \n",
    "#                                             patience=10, \n",
    "#                                             verbose=0, \n",
    "#                                             mode='auto',\n",
    "#                                             ## This will ensure the best instance of the model over the validation set.\n",
    "#                                             restore_best_weights=True)\n",
    "    \n",
    "# #store the best model for reuse\n",
    "# mc = tf.keras.callbacks.ModelCheckpoint(\n",
    "#                                     'best_model.h5', \n",
    "#                                     monitor='val_loss', \n",
    "#                                     mode='min', \n",
    "#                                     verbose=0)\n",
    "\n",
    "#           Ploting the Model Output\n",
    "#----------------------------------------------#\n",
    "# visualize the training and validation accuracies and losses \n",
    "def visualize_loss(history):\n",
    "    train_loss = history[\"loss\"]\n",
    "    val_loss = history[\"val_loss\"]\n",
    "    \n",
    "    iterations = [i for i in range(EPOCHS)]\n",
    "    \n",
    "    plt.plot(iterations, train_loss, label=\"Training Loss\", color=\"b\")\n",
    "    plt.plot(iterations, val_loss, label=\"Validation Loss\", color=\"r\")\n",
    "    plt.title(\"Training and Validation Loss\")\n",
    "    plt.legend()\n",
    "    plt.show()\n",
    "    \n",
    "def visualize_acc(history):\n",
    "    train_loss = history[\"acc\"]\n",
    "    val_loss = history[\"val_acc\"]\n",
    "    \n",
    "    iterations = [i for i in range(EPOCHS)]\n",
    "    \n",
    "    \n",
    "    plt.plot(iterations, train_loss, label=\"Training Accuracy\", color=\"b\")\n",
    "    plt.plot(iterations, val_loss, label=\"Validation Accuracy\", color=\"r\")\n",
    "    plt.title(\"Training and Validation accuracy\")\n",
    "    plt.legend()\n",
    "    plt.show()\n",
    "    \n",
    "    \n",
    "# Change made on 29/02/2024   \n",
    "    \n",
    "def preprocess_data(features, labels):\n",
    "    # Convert features to float\n",
    "    features = tf.cast(features, tf.float32)\n",
    "    # Convert labels if they are not already in numeric form\n",
    "    labels = tf.cast(labels, tf.float32)  # Adjust as necessary\n",
    "    return features, labels"
   ]
  },
  {
   "cell_type": "markdown",
   "id": "e011791b",
   "metadata": {},
   "source": [
    "## Loading the dataset"
   ]
  },
  {
   "cell_type": "code",
   "execution_count": 3,
   "id": "6ede4e49",
   "metadata": {},
   "outputs": [
    {
     "name": "stdout",
     "output_type": "stream",
     "text": [
      "['archive (8).zip', 'ISIC_2019_Training_GroundTruth.csv', 'ISIC_2019_Training_Input', 'ISIC_2019_Training_Metadata.csv', 'MLNN-Rubric.pngPNGOpen file.url']\n"
     ]
    }
   ],
   "source": [
    "import os\n",
    "print(os.listdir(\"./Input\"))"
   ]
  },
  {
   "cell_type": "markdown",
   "id": "ad25e571-20ee-4462-b6b3-b094ee49cb8a",
   "metadata": {},
   "source": [
    "# Problem & Dataset\n",
    "\n",
    "Classifying raw images into categories is an extremely valuable task, with many different applications and value<br />\n",
    "across multiple industries[<a href=\"#ref-cwg-asotaoicbocnn\">3</a>].\n",
    "\n",
    "A classic instance of image classification problems is what can be described as a<br />\n",
    "**multi-class, single-label classification** problem, where $K$ labels exist and each<br />\n",
    "document (in this case an image) will have a single class attributed (or \"labelled\") to it.\n",
    "\n",
    "Formally:\n",
    "\n",
    "- $\\hat{y} = f(X) = \\textbf{argmax } g(\\theta, X)_{[k]}, \\forall{k \\in K=\\{ 0...|classes| \\}}$, where:\n",
    "  - $X$ is the input image\n",
    "  - $f$ is the labeller function\n",
    "  - $g$ is the model\n",
    "  - $\\theta$ are the trainable parameters of the model\n",
    " \n",
    "This report uses the ISIC 2019 dataset which is available from the **ISICS 2019 Dataset**. This is an external dataset that is not a part of the **Tensorflow Datasets Catalog**[<a href=\"#ref-ciar10\">4</a>]. This dataset presents the problem whereby 25,331 images need to be separated into 9 distict classes."
   ]
  },
  {
   "cell_type": "markdown",
   "id": "12cd15b7",
   "metadata": {},
   "source": [
    "# Data preparation"
   ]
  },
  {
   "cell_type": "markdown",
   "id": "92aef0f6",
   "metadata": {},
   "source": [
    "### Load and Preprocess the Dataset"
   ]
  },
  {
   "cell_type": "markdown",
   "id": "19e5844c",
   "metadata": {},
   "source": [
    "#### Load the dataset"
   ]
  },
  {
   "cell_type": "code",
   "execution_count": 24,
   "id": "ede73a3e",
   "metadata": {},
   "outputs": [],
   "source": [
    "csv_file = './Input/ISIC_2019_TrainingGroundTruth.csv'\n",
    "data_labels = pd.read_csv(\"./Input/ISIC_2019_Training_GroundTruth.csv\", header = 0)\n",
    "\n",
    "images_path = Path('./Input/ISIC_2019_Training_Input/')\n"
   ]
  },
  {
   "cell_type": "code",
   "execution_count": 25,
   "id": "f1026702",
   "metadata": {},
   "outputs": [
    {
     "name": "stdout",
     "output_type": "stream",
     "text": [
      "['MEL' 'NV' 'BCC' 'AK' 'BKL' 'DF' 'VASC' 'SCC' 'UNK']\n"
     ]
    }
   ],
   "source": [
    "classes = data_labels.columns[1:].values\n",
    "print(classes)"
   ]
  },
  {
   "cell_type": "code",
   "execution_count": 19,
   "id": "ac6dbebe",
   "metadata": {},
   "outputs": [],
   "source": [
    "from pathlib import Path\n",
    "import pandas as pd\n",
    "import numpy as np\n",
    "\n",
    "# Assuming images_path and ground_truth_labels are defined\n",
    "\n",
    "# 1. Efficiently list image file paths\n",
    "images = [str(path) for path in images_path.rglob(\"*.jpg\")]\n",
    "\n",
    "\n",
    "# 2. Preprocess data_labels to create a name-to-label mapping\n",
    "# Assuming 'image' column has the image names without extension, and labels are in the next column\n",
    "name_to_label = {\n",
    "    row['image']: row.iloc[1:].values.argmax()\n",
    "    for _, row in data_labels.iterrows()\n",
    "}\n",
    "\n",
    "# 3. Extract labels using the mapping for faster lookup\n",
    "labels = [name_to_label[Path(path).stem] for path in images]\n",
    "\n",
    "# 4. Determine the number of unique classes\n",
    "num_classes = len(np.unique(labels))\n",
    "\n",
    "# 5. Assert that each image has a corresponding label\n",
    "assert len(images) == len(labels), 'Not equal number of images and labels'"
   ]
  },
  {
   "cell_type": "code",
   "execution_count": 20,
   "id": "8aa9b69a",
   "metadata": {},
   "outputs": [
    {
     "name": "stdout",
     "output_type": "stream",
     "text": [
      "8\n",
      "25331\n"
     ]
    }
   ],
   "source": [
    "print(num_classes)\n",
    "print(len(images))"
   ]
  },
  {
   "cell_type": "code",
   "execution_count": 12,
   "id": "2241bfb9",
   "metadata": {},
   "outputs": [
    {
     "data": {
      "text/html": [
       "<div>\n",
       "<style scoped>\n",
       "    .dataframe tbody tr th:only-of-type {\n",
       "        vertical-align: middle;\n",
       "    }\n",
       "\n",
       "    .dataframe tbody tr th {\n",
       "        vertical-align: top;\n",
       "    }\n",
       "\n",
       "    .dataframe thead th {\n",
       "        text-align: right;\n",
       "    }\n",
       "</style>\n",
       "<table border=\"1\" class=\"dataframe\">\n",
       "  <thead>\n",
       "    <tr style=\"text-align: right;\">\n",
       "      <th></th>\n",
       "      <th>image</th>\n",
       "      <th>MEL</th>\n",
       "      <th>NV</th>\n",
       "      <th>BCC</th>\n",
       "      <th>AK</th>\n",
       "      <th>BKL</th>\n",
       "      <th>DF</th>\n",
       "      <th>VASC</th>\n",
       "      <th>SCC</th>\n",
       "      <th>UNK</th>\n",
       "    </tr>\n",
       "  </thead>\n",
       "  <tbody>\n",
       "    <tr>\n",
       "      <th>0</th>\n",
       "      <td>ISIC_0000000</td>\n",
       "      <td>0.0</td>\n",
       "      <td>1.0</td>\n",
       "      <td>0.0</td>\n",
       "      <td>0.0</td>\n",
       "      <td>0.0</td>\n",
       "      <td>0.0</td>\n",
       "      <td>0.0</td>\n",
       "      <td>0.0</td>\n",
       "      <td>0.0</td>\n",
       "    </tr>\n",
       "    <tr>\n",
       "      <th>1</th>\n",
       "      <td>ISIC_0000001</td>\n",
       "      <td>0.0</td>\n",
       "      <td>1.0</td>\n",
       "      <td>0.0</td>\n",
       "      <td>0.0</td>\n",
       "      <td>0.0</td>\n",
       "      <td>0.0</td>\n",
       "      <td>0.0</td>\n",
       "      <td>0.0</td>\n",
       "      <td>0.0</td>\n",
       "    </tr>\n",
       "    <tr>\n",
       "      <th>2</th>\n",
       "      <td>ISIC_0000002</td>\n",
       "      <td>1.0</td>\n",
       "      <td>0.0</td>\n",
       "      <td>0.0</td>\n",
       "      <td>0.0</td>\n",
       "      <td>0.0</td>\n",
       "      <td>0.0</td>\n",
       "      <td>0.0</td>\n",
       "      <td>0.0</td>\n",
       "      <td>0.0</td>\n",
       "    </tr>\n",
       "    <tr>\n",
       "      <th>3</th>\n",
       "      <td>ISIC_0000003</td>\n",
       "      <td>0.0</td>\n",
       "      <td>1.0</td>\n",
       "      <td>0.0</td>\n",
       "      <td>0.0</td>\n",
       "      <td>0.0</td>\n",
       "      <td>0.0</td>\n",
       "      <td>0.0</td>\n",
       "      <td>0.0</td>\n",
       "      <td>0.0</td>\n",
       "    </tr>\n",
       "    <tr>\n",
       "      <th>4</th>\n",
       "      <td>ISIC_0000004</td>\n",
       "      <td>1.0</td>\n",
       "      <td>0.0</td>\n",
       "      <td>0.0</td>\n",
       "      <td>0.0</td>\n",
       "      <td>0.0</td>\n",
       "      <td>0.0</td>\n",
       "      <td>0.0</td>\n",
       "      <td>0.0</td>\n",
       "      <td>0.0</td>\n",
       "    </tr>\n",
       "    <tr>\n",
       "      <th>...</th>\n",
       "      <td>...</td>\n",
       "      <td>...</td>\n",
       "      <td>...</td>\n",
       "      <td>...</td>\n",
       "      <td>...</td>\n",
       "      <td>...</td>\n",
       "      <td>...</td>\n",
       "      <td>...</td>\n",
       "      <td>...</td>\n",
       "      <td>...</td>\n",
       "    </tr>\n",
       "    <tr>\n",
       "      <th>25326</th>\n",
       "      <td>ISIC_0073247</td>\n",
       "      <td>0.0</td>\n",
       "      <td>0.0</td>\n",
       "      <td>1.0</td>\n",
       "      <td>0.0</td>\n",
       "      <td>0.0</td>\n",
       "      <td>0.0</td>\n",
       "      <td>0.0</td>\n",
       "      <td>0.0</td>\n",
       "      <td>0.0</td>\n",
       "    </tr>\n",
       "    <tr>\n",
       "      <th>25327</th>\n",
       "      <td>ISIC_0073248</td>\n",
       "      <td>0.0</td>\n",
       "      <td>0.0</td>\n",
       "      <td>0.0</td>\n",
       "      <td>0.0</td>\n",
       "      <td>1.0</td>\n",
       "      <td>0.0</td>\n",
       "      <td>0.0</td>\n",
       "      <td>0.0</td>\n",
       "      <td>0.0</td>\n",
       "    </tr>\n",
       "    <tr>\n",
       "      <th>25328</th>\n",
       "      <td>ISIC_0073249</td>\n",
       "      <td>1.0</td>\n",
       "      <td>0.0</td>\n",
       "      <td>0.0</td>\n",
       "      <td>0.0</td>\n",
       "      <td>0.0</td>\n",
       "      <td>0.0</td>\n",
       "      <td>0.0</td>\n",
       "      <td>0.0</td>\n",
       "      <td>0.0</td>\n",
       "    </tr>\n",
       "    <tr>\n",
       "      <th>25329</th>\n",
       "      <td>ISIC_0073251</td>\n",
       "      <td>0.0</td>\n",
       "      <td>1.0</td>\n",
       "      <td>0.0</td>\n",
       "      <td>0.0</td>\n",
       "      <td>0.0</td>\n",
       "      <td>0.0</td>\n",
       "      <td>0.0</td>\n",
       "      <td>0.0</td>\n",
       "      <td>0.0</td>\n",
       "    </tr>\n",
       "    <tr>\n",
       "      <th>25330</th>\n",
       "      <td>ISIC_0073254</td>\n",
       "      <td>0.0</td>\n",
       "      <td>0.0</td>\n",
       "      <td>0.0</td>\n",
       "      <td>0.0</td>\n",
       "      <td>1.0</td>\n",
       "      <td>0.0</td>\n",
       "      <td>0.0</td>\n",
       "      <td>0.0</td>\n",
       "      <td>0.0</td>\n",
       "    </tr>\n",
       "  </tbody>\n",
       "</table>\n",
       "<p>25331 rows × 10 columns</p>\n",
       "</div>"
      ],
      "text/plain": [
       "              image  MEL   NV  BCC   AK  BKL   DF  VASC  SCC  UNK\n",
       "0      ISIC_0000000  0.0  1.0  0.0  0.0  0.0  0.0   0.0  0.0  0.0\n",
       "1      ISIC_0000001  0.0  1.0  0.0  0.0  0.0  0.0   0.0  0.0  0.0\n",
       "2      ISIC_0000002  1.0  0.0  0.0  0.0  0.0  0.0   0.0  0.0  0.0\n",
       "3      ISIC_0000003  0.0  1.0  0.0  0.0  0.0  0.0   0.0  0.0  0.0\n",
       "4      ISIC_0000004  1.0  0.0  0.0  0.0  0.0  0.0   0.0  0.0  0.0\n",
       "...             ...  ...  ...  ...  ...  ...  ...   ...  ...  ...\n",
       "25326  ISIC_0073247  0.0  0.0  1.0  0.0  0.0  0.0   0.0  0.0  0.0\n",
       "25327  ISIC_0073248  0.0  0.0  0.0  0.0  1.0  0.0   0.0  0.0  0.0\n",
       "25328  ISIC_0073249  1.0  0.0  0.0  0.0  0.0  0.0   0.0  0.0  0.0\n",
       "25329  ISIC_0073251  0.0  1.0  0.0  0.0  0.0  0.0   0.0  0.0  0.0\n",
       "25330  ISIC_0073254  0.0  0.0  0.0  0.0  1.0  0.0   0.0  0.0  0.0\n",
       "\n",
       "[25331 rows x 10 columns]"
      ]
     },
     "execution_count": 12,
     "metadata": {},
     "output_type": "execute_result"
    }
   ],
   "source": [
    "data_labels"
   ]
  },
  {
   "cell_type": "code",
   "execution_count": null,
   "id": "691bd702",
   "metadata": {},
   "outputs": [],
   "source": []
  },
  {
   "cell_type": "markdown",
   "id": "9e6746d6",
   "metadata": {},
   "source": [
    "## Splitting the dataset "
   ]
  },
  {
   "cell_type": "code",
   "execution_count": 9,
   "id": "7438970a",
   "metadata": {},
   "outputs": [],
   "source": [
    "# https://www.kaggle.com/code/konstanter/classifying-skin-cancer\n",
    "from sklearn.model_selection import train_test_split\n",
    "import pandas as pd\n",
    "import numpy as np\n",
    "import seaborn as sns\n",
    "\n",
    "# Using train_test_split simplifies the splitting process and automatically handles shuffling\n",
    "X_train, X_test, y_train, y_test = train_test_split(images, labels, test_size=0.2, stratify=labels)\n",
    "\n",
    "# Creating a DataFrame for visualization\n",
    "df_train = pd.DataFrame({'labels': y_train, 'split': 'train'})\n",
    "df_test = pd.DataFrame({'labels': y_test, 'split': 'test'})\n",
    "df = pd.concat([df_train, df_test])"
   ]
  },
  {
   "cell_type": "markdown",
   "id": "5469553f",
   "metadata": {},
   "source": [
    "## Visualization"
   ]
  },
  {
   "cell_type": "code",
   "execution_count": 10,
   "id": "07be74e0",
   "metadata": {},
   "outputs": [
    {
     "data": {
      "image/png": "[encoded data removed]",
      "text/plain": [
       "<Figure size 640x480 with 1 Axes>"
      ]
     },
     "metadata": {},
     "output_type": "display_data"
    }
   ],
   "source": [
    "p = sns.countplot(data=df, x='labels', hue='split')\n",
    "p.legend(title='labels', bbox_to_anchor=(1, 1), loc='upper left')\n",
    "\n",
    "for c in p.containers:\n",
    "    p.bar_label(c, fmt='%.0f', label_type='edge')"
   ]
  },
  {
   "cell_type": "markdown",
   "id": "28151ba4",
   "metadata": {},
   "source": [
    "# Create the Dataset"
   ]
  },
  {
   "cell_type": "code",
   "execution_count": 11,
   "id": "1248c7b9",
   "metadata": {},
   "outputs": [],
   "source": [
    "def load_and_preprocess_image(path):\n",
    "    image = tf.io.read_file(path)\n",
    "    image = tf.image.decode_jpeg(image, channels=3)\n",
    "    image = tf.image.resize(image, [260, 260], 'nearest')\n",
    "#     image /= 255\n",
    "    return image\n",
    "\n",
    "def data_augment(image, label):\n",
    "    image = tf.image.random_flip_left_right(image)\n",
    "    return image, label   \n",
    "\n",
    "def load_and_preprocess_from_path_labels(path, label):\n",
    "    return load_and_preprocess_image(path), label\n",
    "\n",
    "\n",
    "train_ds = tf.data.Dataset.from_tensor_slices((X_train, y_train))\n",
    "train_ds = train_ds.map(load_and_preprocess_from_path_labels, num_parallel_calls=tf.data.AUTOTUNE)\\\n",
    "                   .map(data_augment, num_parallel_calls=tf.data.AUTOTUNE)\\\n",
    "                   .shuffle(2048).batch(10).prefetch(tf.data.AUTOTUNE)\n",
    "\n",
    "test_ds = tf.data.Dataset.from_tensor_slices((X_test, y_test))\n",
    "test_ds = test_ds.map(load_and_preprocess_from_path_labels, num_parallel_calls=tf.data.AUTOTUNE).batch(10).prefetch(tf.data.AUTOTUNE)"
   ]
  },
  {
   "cell_type": "markdown",
   "id": "05cf42f2",
   "metadata": {},
   "source": [
    "### Explore the dataset"
   ]
  },
  {
   "cell_type": "code",
   "execution_count": 12,
   "id": "e767858e",
   "metadata": {},
   "outputs": [],
   "source": [
    "lesion_type_dict = {\n",
    "    'NV': 'Melanocytic nevi',\n",
    "    'MEL': 'Melanoma',\n",
    "    'BKL': 'Benign keratosis ',\n",
    "    'BCC': 'Basal cell carcinoma',\n",
    "    'AK': 'Actinic keratoses',\n",
    "    'VASC': 'Vascular lesions',\n",
    "    'DF': 'Dermatofibroma',\n",
    "    'SCC' : 'Squamous cell carcinoma'\n",
    "} "
   ]
  },
  {
   "cell_type": "markdown",
   "id": "9f24cd64",
   "metadata": {},
   "source": [
    "## Get the images and labels"
   ]
  },
  {
   "cell_type": "markdown",
   "id": "65d2b022",
   "metadata": {},
   "source": [
    "# Model Architecture"
   ]
  },
  {
   "cell_type": "markdown",
   "id": "9c039d78",
   "metadata": {},
   "source": [
    "In building the baseline model we will start with a simple hold out validation setup of the dataset (train data, test data) in order to test the simplest system for accuracy of prediction. As was stated before this model only needs to perform with an accuracy greater than 33%, or the accuracy of a model randomly guessing one of the 3 class labels."
   ]
  },
  {
   "cell_type": "code",
   "execution_count": 13,
   "id": "62a2fb8a",
   "metadata": {},
   "outputs": [],
   "source": [
    "#             Building the Model\n",
    "#----------------------------------------------#\n",
    "def base_model():\n",
    "    inputs = tf.keras.layers.Input(shape=(260,260,3))\n",
    "\n",
    "    x = tf.keras.layers.Conv2D(filters=32, \n",
    "                          kernel_size=(3,3),\n",
    "                          strides=(1,1),\n",
    "                          padding='valid',\n",
    "                          activation='relu')(inputs)\n",
    "\n",
    "    x = tf.keras.layers.MaxPooling2D(pool_size=(2,2))(x)\n",
    "    x = tf.keras.layers.GlobalAveragePooling2D()(x)\n",
    "\n",
    "    #x = tf.keras.layers.Flatten()(x)\n",
    "\n",
    "    outputs = tf.keras.layers.Dense(num_classes, activation='softmax')(x)\n",
    "\n",
    "    return tf.keras.models.Model(inputs=inputs, outputs=outputs)"
   ]
  },
  {
   "cell_type": "code",
   "execution_count": 14,
   "id": "699689ed",
   "metadata": {},
   "outputs": [
    {
     "data": {
      "text/html": [
       "<pre style=\"white-space:pre;overflow-x:auto;line-height:normal;font-family:Menlo,'DejaVu Sans Mono',consolas,'Courier New',monospace\"><span style=\"font-weight: bold\">Model: \"functional_1\"</span>\n",
       "</pre>\n"
      ],
      "text/plain": [
       "\u001b[1mModel: \"functional_1\"\u001b[0m\n"
      ]
     },
     "metadata": {},
     "output_type": "display_data"
    },
    {
     "data": {
      "text/html": [
       "<pre style=\"white-space:pre;overflow-x:auto;line-height:normal;font-family:Menlo,'DejaVu Sans Mono',consolas,'Courier New',monospace\">┏━━━━━━━━━━━━━━━━━━━━━━━━━━━━━━━━━━━━━━┳━━━━━━━━━━━━━━━━━━━━━━━━━━━━━┳━━━━━━━━━━━━━━━━━┓\n",
       "┃<span style=\"font-weight: bold\"> Layer (type)                         </span>┃<span style=\"font-weight: bold\"> Output Shape                </span>┃<span style=\"font-weight: bold\">         Param # </span>┃\n",
       "┡━━━━━━━━━━━━━━━━━━━━━━━━━━━━━━━━━━━━━━╇━━━━━━━━━━━━━━━━━━━━━━━━━━━━━╇━━━━━━━━━━━━━━━━━┩\n",
       "│ input_layer (<span style=\"color: #0087ff; text-decoration-color: #0087ff\">InputLayer</span>)             │ (<span style=\"color: #00d7ff; text-decoration-color: #00d7ff\">None</span>, <span style=\"color: #00af00; text-decoration-color: #00af00\">260</span>, <span style=\"color: #00af00; text-decoration-color: #00af00\">260</span>, <span style=\"color: #00af00; text-decoration-color: #00af00\">3</span>)         │               <span style=\"color: #00af00; text-decoration-color: #00af00\">0</span> │\n",
       "├──────────────────────────────────────┼─────────────────────────────┼─────────────────┤\n",
       "│ conv2d (<span style=\"color: #0087ff; text-decoration-color: #0087ff\">Conv2D</span>)                      │ (<span style=\"color: #00d7ff; text-decoration-color: #00d7ff\">None</span>, <span style=\"color: #00af00; text-decoration-color: #00af00\">258</span>, <span style=\"color: #00af00; text-decoration-color: #00af00\">258</span>, <span style=\"color: #00af00; text-decoration-color: #00af00\">32</span>)        │             <span style=\"color: #00af00; text-decoration-color: #00af00\">896</span> │\n",
       "├──────────────────────────────────────┼─────────────────────────────┼─────────────────┤\n",
       "│ max_pooling2d (<span style=\"color: #0087ff; text-decoration-color: #0087ff\">MaxPooling2D</span>)         │ (<span style=\"color: #00d7ff; text-decoration-color: #00d7ff\">None</span>, <span style=\"color: #00af00; text-decoration-color: #00af00\">129</span>, <span style=\"color: #00af00; text-decoration-color: #00af00\">129</span>, <span style=\"color: #00af00; text-decoration-color: #00af00\">32</span>)        │               <span style=\"color: #00af00; text-decoration-color: #00af00\">0</span> │\n",
       "├──────────────────────────────────────┼─────────────────────────────┼─────────────────┤\n",
       "│ global_average_pooling2d             │ (<span style=\"color: #00d7ff; text-decoration-color: #00d7ff\">None</span>, <span style=\"color: #00af00; text-decoration-color: #00af00\">32</span>)                  │               <span style=\"color: #00af00; text-decoration-color: #00af00\">0</span> │\n",
       "│ (<span style=\"color: #0087ff; text-decoration-color: #0087ff\">GlobalAveragePooling2D</span>)             │                             │                 │\n",
       "├──────────────────────────────────────┼─────────────────────────────┼─────────────────┤\n",
       "│ dense (<span style=\"color: #0087ff; text-decoration-color: #0087ff\">Dense</span>)                        │ (<span style=\"color: #00d7ff; text-decoration-color: #00d7ff\">None</span>, <span style=\"color: #00af00; text-decoration-color: #00af00\">8</span>)                   │             <span style=\"color: #00af00; text-decoration-color: #00af00\">264</span> │\n",
       "└──────────────────────────────────────┴─────────────────────────────┴─────────────────┘\n",
       "</pre>\n"
      ],
      "text/plain": [
       "┏━━━━━━━━━━━━━━━━━━━━━━━━━━━━━━━━━━━━━━┳━━━━━━━━━━━━━━━━━━━━━━━━━━━━━┳━━━━━━━━━━━━━━━━━┓\n",
       "┃\u001b[1m \u001b[0m\u001b[1mLayer (type)                        \u001b[0m\u001b[1m \u001b[0m┃\u001b[1m \u001b[0m\u001b[1mOutput Shape               \u001b[0m\u001b[1m \u001b[0m┃\u001b[1m \u001b[0m\u001b[1m        Param #\u001b[0m\u001b[1m \u001b[0m┃\n",
       "┡━━━━━━━━━━━━━━━━━━━━━━━━━━━━━━━━━━━━━━╇━━━━━━━━━━━━━━━━━━━━━━━━━━━━━╇━━━━━━━━━━━━━━━━━┩\n",
       "│ input_layer (\u001b[38;5;33mInputLayer\u001b[0m)             │ (\u001b[38;5;45mNone\u001b[0m, \u001b[38;5;34m260\u001b[0m, \u001b[38;5;34m260\u001b[0m, \u001b[38;5;34m3\u001b[0m)         │               \u001b[38;5;34m0\u001b[0m │\n",
       "├──────────────────────────────────────┼─────────────────────────────┼─────────────────┤\n",
       "│ conv2d (\u001b[38;5;33mConv2D\u001b[0m)                      │ (\u001b[38;5;45mNone\u001b[0m, \u001b[38;5;34m258\u001b[0m, \u001b[38;5;34m258\u001b[0m, \u001b[38;5;34m32\u001b[0m)        │             \u001b[38;5;34m896\u001b[0m │\n",
       "├──────────────────────────────────────┼─────────────────────────────┼─────────────────┤\n",
       "│ max_pooling2d (\u001b[38;5;33mMaxPooling2D\u001b[0m)         │ (\u001b[38;5;45mNone\u001b[0m, \u001b[38;5;34m129\u001b[0m, \u001b[38;5;34m129\u001b[0m, \u001b[38;5;34m32\u001b[0m)        │               \u001b[38;5;34m0\u001b[0m │\n",
       "├──────────────────────────────────────┼─────────────────────────────┼─────────────────┤\n",
       "│ global_average_pooling2d             │ (\u001b[38;5;45mNone\u001b[0m, \u001b[38;5;34m32\u001b[0m)                  │               \u001b[38;5;34m0\u001b[0m │\n",
       "│ (\u001b[38;5;33mGlobalAveragePooling2D\u001b[0m)             │                             │                 │\n",
       "├──────────────────────────────────────┼─────────────────────────────┼─────────────────┤\n",
       "│ dense (\u001b[38;5;33mDense\u001b[0m)                        │ (\u001b[38;5;45mNone\u001b[0m, \u001b[38;5;34m8\u001b[0m)                   │             \u001b[38;5;34m264\u001b[0m │\n",
       "└──────────────────────────────────────┴─────────────────────────────┴─────────────────┘\n"
      ]
     },
     "metadata": {},
     "output_type": "display_data"
    },
    {
     "data": {
      "text/html": [
       "<pre style=\"white-space:pre;overflow-x:auto;line-height:normal;font-family:Menlo,'DejaVu Sans Mono',consolas,'Courier New',monospace\"><span style=\"font-weight: bold\"> Total params: </span><span style=\"color: #00af00; text-decoration-color: #00af00\">1,160</span> (4.53 KB)\n",
       "</pre>\n"
      ],
      "text/plain": [
       "\u001b[1m Total params: \u001b[0m\u001b[38;5;34m1,160\u001b[0m (4.53 KB)\n"
      ]
     },
     "metadata": {},
     "output_type": "display_data"
    },
    {
     "data": {
      "text/html": [
       "<pre style=\"white-space:pre;overflow-x:auto;line-height:normal;font-family:Menlo,'DejaVu Sans Mono',consolas,'Courier New',monospace\"><span style=\"font-weight: bold\"> Trainable params: </span><span style=\"color: #00af00; text-decoration-color: #00af00\">1,160</span> (4.53 KB)\n",
       "</pre>\n"
      ],
      "text/plain": [
       "\u001b[1m Trainable params: \u001b[0m\u001b[38;5;34m1,160\u001b[0m (4.53 KB)\n"
      ]
     },
     "metadata": {},
     "output_type": "display_data"
    },
    {
     "data": {
      "text/html": [
       "<pre style=\"white-space:pre;overflow-x:auto;line-height:normal;font-family:Menlo,'DejaVu Sans Mono',consolas,'Courier New',monospace\"><span style=\"font-weight: bold\"> Non-trainable params: </span><span style=\"color: #00af00; text-decoration-color: #00af00\">0</span> (0.00 B)\n",
       "</pre>\n"
      ],
      "text/plain": [
       "\u001b[1m Non-trainable params: \u001b[0m\u001b[38;5;34m0\u001b[0m (0.00 B)\n"
      ]
     },
     "metadata": {},
     "output_type": "display_data"
    }
   ],
   "source": [
    "base_model = base_model()\n",
    "base_model.compile(optimizer='adam', \n",
    "                   loss='sparse_categorical_crossentropy', \n",
    "                   metrics=['acc'])\n",
    "base_model.summary()"
   ]
  },
  {
   "cell_type": "markdown",
   "id": "65c3b260",
   "metadata": {},
   "source": [
    "From the model summary we can see the model has a total of 1160 trainable parameters for learning the patterns of the data set"
   ]
  },
  {
   "cell_type": "code",
   "execution_count": 15,
   "id": "089ca808",
   "metadata": {},
   "outputs": [],
   "source": [
    "EPOCHS = 2\n",
    "BATCH_SIZE = 32"
   ]
  },
  {
   "cell_type": "code",
   "execution_count": 17,
   "id": "f9471f86",
   "metadata": {},
   "outputs": [
    {
     "name": "stdout",
     "output_type": "stream",
     "text": []
    }
   ],
   "source": [
    "history = base_model.fit( \n",
    "                    train_ds,\n",
    "                    validation_data=test_ds,\n",
    "                    epochs=EPOCHS,\n",
    "                    batch_size=BATCH_SIZE,\n",
    "                    verbose=0,\n",
    "                    callbacks=[CustomCallback()])"
   ]
  },
  {
   "cell_type": "code",
   "execution_count": 18,
   "id": "f0f1dcb2",
   "metadata": {},
   "outputs": [
    {
     "name": "stdout",
     "output_type": "stream",
     "text": [
      "Training accuracy: 0.516, Testing accuracy: 0.515\n"
     ]
    }
   ],
   "source": [
    "_, train_acc = base_model.evaluate(train_ds, verbose=0)\n",
    "_, test_acc = base_model.evaluate(test_ds, verbose=0)\n",
    "print('Training accuracy: %.3f, Testing accuracy: %.3f' % (train_acc, test_acc))"
   ]
  },
  {
   "cell_type": "markdown",
   "id": "2348cb01",
   "metadata": {},
   "source": [
    "We can see from the previous cell when evaluating the baseline model, it produced a test accuracy that is significantly better than the common sense baseline of approxiamly 33%."
   ]
  },
  {
   "cell_type": "code",
   "execution_count": 19,
   "id": "2933f43d",
   "metadata": {},
   "outputs": [
    {
     "data": {
      "image/png": "[encoded data removed]",
      "text/plain": [
       "<Figure size 640x480 with 1 Axes>"
      ]
     },
     "metadata": {},
     "output_type": "display_data"
    },
    {
     "data": {
      "image/png": "[encoded data removed]",
      "text/plain": [
       "<Figure size 640x480 with 1 Axes>"
      ]
     },
     "metadata": {},
     "output_type": "display_data"
    }
   ],
   "source": [
    "visualize_loss(history.history)\n",
    "visualize_acc(history.history)"
   ]
  },
  {
   "cell_type": "markdown",
   "id": "56e3dcb6",
   "metadata": {},
   "source": [
    "However, from inspecting the graphed training and validation key features:\n",
    "* Loss \n",
    "* Accuracy\n",
    "\n",
    "It has been shown that the model had not yet converged on its optimal number of epochs for training. Or rather the point where the validation loss and training loss converge before overfitting. To find the point of convergence the number of training epochs will be increased to 600. "
   ]
  },
  {
   "cell_type": "markdown",
   "id": "4f4283b9",
   "metadata": {},
   "source": [
    "## Training for more Epochs"
   ]
  },
  {
   "cell_type": "code",
   "execution_count": null,
   "id": "321c40ad",
   "metadata": {},
   "outputs": [],
   "source": [
    "EPOCHS = 10"
   ]
  },
  {
   "cell_type": "code",
   "execution_count": null,
   "id": "eddc7ff6",
   "metadata": {},
   "outputs": [],
   "source": [
    "history = base_model.fit( \n",
    "                    train_ds,\n",
    "                    validation_data=test_ds,\n",
    "                    epochs=EPOCHS,\n",
    "                    batch_size=BATCH_SIZE,\n",
    "                    verbose=0,\n",
    "                    callbacks=[CustomCallback()])"
   ]
  },
  {
   "cell_type": "code",
   "execution_count": null,
   "id": "9de392b4",
   "metadata": {},
   "outputs": [],
   "source": [
    "_, train_acc = base_model.evaluate(train_ds, verbose=0)\n",
    "_, test_acc = base_model.evaluate(test_ds, verbose=0)\n",
    "print('Training accuracy: %.3f, Testing accuracy: %.3f' % (train_acc, test_acc))"
   ]
  },
  {
   "cell_type": "markdown",
   "id": "d8ee96f1",
   "metadata": {},
   "source": [
    "We can see from the testing accuracy that even though the number of training epochs was significantly increased, there wasn't a significant increase in accuracy. This suggests that the model is either currently too small or needs a longer period of training. To better understand the progress of the model we will output the graph of the training and validation loss and accuracy."
   ]
  },
  {
   "cell_type": "code",
   "execution_count": null,
   "id": "2a8d08a6",
   "metadata": {},
   "outputs": [],
   "source": [
    "visualize_loss(history.history)\n",
    "visualize_acc(history.history)\n",
    "BEST_EPOCH = np.argmin(history.history['val_loss'])\n",
    "print('The lowest Validation Loss occured in the', BEST_EPOCH, 'epoch')"
   ]
  },
  {
   "cell_type": "markdown",
   "id": "f5201d87",
   "metadata": {},
   "source": [
    "Define the model using Sequential API, sticking to Dense and Dropout layers"
   ]
  },
  {
   "cell_type": "markdown",
   "id": "3cc78cc3-b90d-44f4-b89a-7b8d9618ff8d",
   "metadata": {},
   "source": [
    "## Building a Bigger Model"
   ]
  },
  {
   "cell_type": "code",
   "execution_count": null,
   "id": "a66ee7df-f7ec-46ec-9953-504047e2c1b2",
   "metadata": {},
   "outputs": [],
   "source": [
    "def model():\n",
    "    inputs = tf.keras.layers.Input(shape=(260,260,3))\n",
    "\n",
    "    x = tf.keras.layers.Conv2D(filters=32, \n",
    "                          kernel_size=(3,3),\n",
    "                          strides=(1,1),\n",
    "                          padding='valid',\n",
    "                          activation='relu')(inputs)\n",
    "    \n",
    "    x = tf.keras.layers.Conv2D(filters=32, \n",
    "                          kernel_size=(3,3),\n",
    "                          strides=(1,1),\n",
    "                          padding='valid',\n",
    "                          activation='relu')(x)\n",
    "\n",
    "    x = tf.keras.layers.MaxPooling2D(pool_size=(2,2))(x)\n",
    "#     x = tf.keras.layers.GlobalAveragePooling2D()(x)\n",
    "\n",
    "#     x = tf.keras.layers.Dense(128, activation='relu')(x)\n",
    "#     x = tf.keras.layers.Dense(32, activation='relu')(x)\n",
    "    \n",
    "    x = tf.keras.layers.Flatten()(x)\n",
    "\n",
    "    outputs = tf.keras.layers.Dense(num_classes, activation='softmax')(x)\n",
    "\n",
    "    return tf.keras.models.Model(inputs=inputs, outputs=outputs)"
   ]
  },
  {
   "cell_type": "code",
   "execution_count": null,
   "id": "c3d5bf44-c672-49e8-8cfa-ae8ca773dfbb",
   "metadata": {},
   "outputs": [],
   "source": [
    "model = model()\n",
    "model.compile(optimizer='adam', \n",
    "              loss='sparse_categorical_crossentropy', \n",
    "              metrics=['acc'])\n",
    "model.summary()"
   ]
  },
  {
   "cell_type": "markdown",
   "id": "e9114b6d-5313-4006-92eb-c74727ac9128",
   "metadata": {},
   "source": [
    "From the model summary we can see that the small change in model structure significantly increased the number of trainable parameters. We can now expect the model to reach convergence at a much sooner point. In regards to this assumption the number of training epochs will be reduced to 100"
   ]
  },
  {
   "cell_type": "code",
   "execution_count": null,
   "id": "ac28d910-fccf-465f-97d2-c452708f235e",
   "metadata": {},
   "outputs": [],
   "source": [
    "EPOCHS = 100"
   ]
  },
  {
   "cell_type": "code",
   "execution_count": null,
   "id": "9048ad28-7ed8-45b3-81c8-1002e1501ebe",
   "metadata": {},
   "outputs": [],
   "source": [
    "history = model.fit(train_data,\n",
    "                    validation_data=test_data,\n",
    "                    epochs=EPOCHS,\n",
    "                    batch_size=BATCH_SIZE,\n",
    "                    verbose=0,\n",
    "                    callbacks=[CustomCallback()])"
   ]
  },
  {
   "cell_type": "code",
   "execution_count": null,
   "id": "96a32f95-c856-457a-91b9-42a954249702",
   "metadata": {},
   "outputs": [],
   "source": [
    "_, train_acc = model.evaluate(train_data, verbose=0)\n",
    "_, test_acc = model.evaluate(test_data, verbose=0)\n",
    "print('Training accuracy: %.3f, Testing accuracy: %.3f' % (train_acc, test_acc))"
   ]
  },
  {
   "cell_type": "code",
   "execution_count": null,
   "id": "8bad1159-b5f9-434f-aa31-02f41ba271ad",
   "metadata": {},
   "outputs": [],
   "source": [
    "visualize_loss(history.history)\n",
    "visualize_acc(history.history)"
   ]
  },
  {
   "cell_type": "markdown",
   "id": "107a0cab-59a7-46bd-8995-0c927717b11b",
   "metadata": {},
   "source": [
    "The training of the model will be performed a second time to investigate if similar results occur or if the model is too sensitive to the size of the data"
   ]
  },
  {
   "cell_type": "code",
   "execution_count": null,
   "id": "850da856-6880-40e7-b344-3a1c5fe8a5f6",
   "metadata": {},
   "outputs": [],
   "source": [
    "history = model.fit(train_data,\n",
    "                    validation_data=test_data,\n",
    "                    epochs=EPOCHS,  \n",
    "                    batch_size=BATCH_SIZE,\n",
    "                    verbose=0,\n",
    "                    callbacks=[CustomCallback()])"
   ]
  },
  {
   "cell_type": "code",
   "execution_count": null,
   "id": "a6577fb3-6bdf-4aab-b53c-4bf369e83926",
   "metadata": {},
   "outputs": [],
   "source": [
    "_, train_acc = model.evaluate(train_data, verbose=0)\n",
    "_, test_acc = model.evaluate(test_data, verbose=0)\n",
    "print('Training accuracy: %.3f, Testing accuracy: %.3f' % (train_acc, test_acc))"
   ]
  },
  {
   "cell_type": "code",
   "execution_count": null,
   "id": "4af5c0d6-fbc2-4a1b-ad16-c0f9e4487213",
   "metadata": {},
   "outputs": [],
   "source": [
    "visualize_loss(history.history)\n",
    "visualize_acc(history.history)\n",
    "BEST_EPOCH = np.argmin(history.history['val_loss'])\n",
    "print('The lowest Validation Loss occured in the', BEST_EPOCH, 'epoch')"
   ]
  },
  {
   "cell_type": "markdown",
   "id": "a576f69d-f23f-45b2-8a31-1deeeae93330",
   "metadata": {},
   "source": [
    "When running the model twice and examining the training and validation loss and accuracy after 300 epochs, the models show that overfitting began at wildly different epochs for each run. This indicates that the model is currently too sensitive to the constitution of the dataset. To solve this issue the validation method will be switched to k fold validation."
   ]
  },
  {
   "cell_type": "code",
   "execution_count": null,
   "id": "7177a74f-c105-45d4-84ff-19222cf12d12",
   "metadata": {},
   "outputs": [],
   "source": [
    "# we split the dataset\n",
    "test_size = int(ds_size * 0.2)\n",
    "train_data = data.skip(test_size)\n",
    "test_data = data.take(test_size)"
   ]
  },
  {
   "cell_type": "markdown",
   "id": "65b66da0-71af-4575-88e6-43e8a7ee85e7",
   "metadata": {},
   "source": [
    "## K Fold Validation"
   ]
  },
  {
   "cell_type": "code",
   "execution_count": null,
   "id": "0e5ebc8f-0b1d-493f-9df9-2ac5d153e3ca",
   "metadata": {},
   "outputs": [],
   "source": [
    "K = 4\n",
    "\n",
    "num_val_samples = len(train_data) // K\n",
    "\n",
    "all_loss = []\n",
    "all_val_loss = []\n",
    "all_acc = []\n",
    "all_val_acc = []\n",
    "\n",
    "for i in range(K):\n",
    "    print('processing fold', i)\n",
    "    \n",
    "    # we split the dataset\n",
    "    test_size = int(num_val_samples * 0.2)\n",
    "\n",
    "    partial_train_data = train_data.skip(test_size)\n",
    "    val_data = train_data.take(test_size)\n",
    "\n",
    "    partial_train_data = configure_for_training(partial_train_data, is_train=True)\n",
    "    val_data = configure_for_training(val_data, is_train=True)\n",
    "    \n",
    "    history = model.fit(partial_train_data, \n",
    "                        validation_data=(val_data), \n",
    "                        epochs=EPOCHS, \n",
    "                        batch_size=BATCH_SIZE, \n",
    "                        verbose=0)\n",
    "    \n",
    "    #evaluate the model on the validation data\n",
    "    _, train_acc = model.evaluate(partial_train_data, verbose=0)\n",
    "    _, test_acc = model.evaluate(val_data, verbose=0)\n",
    "    \n",
    "    loss_history = history.history['loss']\n",
    "    val_loss_history = history.history['val_loss']\n",
    "    acc_history = history.history['acc']\n",
    "    val_acc_history = history.history['val_acc']\n",
    "    \n",
    "    all_loss.append(loss_history)\n",
    "    all_val_loss.append(val_loss_history)\n",
    "    all_acc.append(acc_history)\n",
    "    all_val_acc.append(val_acc_history)"
   ]
  },
  {
   "cell_type": "code",
   "execution_count": null,
   "id": "b8b7604f-f018-4b75-a5aa-a8ba70823e38",
   "metadata": {},
   "outputs": [],
   "source": [
    "average_loss_history = [np.mean([x[i] for x in all_loss])for i in range(EPOCHS)]\n",
    "average_val_loss_history = [np.mean([x[i] for x in all_val_loss])for i in range(EPOCHS)]\n",
    "average_acc_history = [np.mean([x[i] for x in all_acc])for i in range(EPOCHS)]\n",
    "average_val_acc_history = [np.mean([x[i] for x in all_val_acc])for i in range(EPOCHS)]\n",
    "\n",
    "\n",
    "plt.plot(range(1, len(average_acc_history) + 1), average_acc_history)\n",
    "plt.plot(range(1, len(average_val_acc_history) + 1), average_val_acc_history)\n",
    "plt.xlabel('Epochs')\n",
    "plt.ylabel('Average Accuracy')\n",
    "\n",
    "plt.show()"
   ]
  },
  {
   "cell_type": "code",
   "execution_count": null,
   "id": "1e6490b5-8be7-491d-b074-cd13bddec975",
   "metadata": {},
   "outputs": [],
   "source": [
    "plt.plot(range(1, len(average_loss_history) + 1), average_loss_history)\n",
    "plt.plot(range(1, len(average_val_loss_history) + 1), average_val_loss_history)\n",
    "plt.xlabel('Epochs')\n",
    "plt.ylabel('Average Loss')\n",
    "\n",
    "plt.show()"
   ]
  },
  {
   "cell_type": "markdown",
   "id": "ed750ac9-4e23-4df0-81f5-cc23216f9274",
   "metadata": {},
   "source": [
    "From the averaged output of the model it was shown that overfitting begins at approximately the sixth epoch. This show that the optimal training period is 6 epochs"
   ]
  },
  {
   "cell_type": "markdown",
   "id": "1ade361b-f1cb-42d5-867a-31914dcc0272",
   "metadata": {},
   "source": [
    "## Building the Final Model"
   ]
  },
  {
   "cell_type": "code",
   "execution_count": null,
   "id": "b098b186-3662-4e59-bf63-fdb25266dad6",
   "metadata": {},
   "outputs": [],
   "source": [
    "EPOCHS = 6\n",
    "# we split the dataset\n",
    "test_size = int(ds_size * 0.2)\n",
    "train_data = data.skip(test_size)\n",
    "test_data = data.take(test_size)\n",
    "\n",
    "train_data = configure_for_training(train_data, is_train=True)\n",
    "test_data = configure_for_training(test_data, is_train=True)"
   ]
  },
  {
   "cell_type": "code",
   "execution_count": null,
   "id": "f6ea5c93-f483-4acb-9f9e-7293dd213bb2",
   "metadata": {},
   "outputs": [],
   "source": [
    "model.compile(optimizer='adam', \n",
    "              loss='sparse_categorical_crossentropy', \n",
    "              metrics=['acc'])\n",
    "model.fit(train_data, \n",
    "          epochs=EPOCHS, \n",
    "          batch_size=BATCH_SIZE, \n",
    "          verbose=0, \n",
    "          callbacks=[CustomCallback()])"
   ]
  },
  {
   "cell_type": "code",
   "execution_count": null,
   "id": "d070cb84-6a40-41f1-acd0-6f367ecf9f9b",
   "metadata": {},
   "outputs": [],
   "source": [
    "_, test_acc = model.evaluate(test_data, verbose=0)"
   ]
  },
  {
   "cell_type": "code",
   "execution_count": null,
   "id": "bad42138-dba9-4035-9cc4-c2ea494f2791",
   "metadata": {},
   "outputs": [],
   "source": [
    "print('The final training outcome', test_acc)"
   ]
  },
  {
   "cell_type": "markdown",
   "id": "d92dba80-62a1-4721-9f23-6ebc6a2d265a",
   "metadata": {},
   "source": [
    "# Results"
   ]
  },
  {
   "cell_type": "markdown",
   "id": "79a23587-bf11-4625-8ba2-9456c83a9eb0",
   "metadata": {},
   "source": [
    "The evaluation of the final model on the test data returned an accuracy of nearly 100%. This indicates that there is a problem with the model. There are two likely culprits:\n",
    "\n",
    "unbalanced dataset that does not accurately describe the problem\n",
    "data leakage in the learning model\n",
    "The first problem leads to a representation issue as all classes are not equally in the validation/training set. This in turn has the data over fit to one class over another. It also impacts optimization as the learning model never gets a good look at the underlying classes. The second problem causes the model to learn the wrong patterns allowing it to model the training set well, but fail on unseen data.\n",
    "\n",
    "As the data set is small, but has 3 class labels, an unbalanced dataset is the most likely scenario for causing this unusual model result. To confirm this in the following cell the counts of the class distribution will be displayed."
   ]
  },
  {
   "cell_type": "code",
   "execution_count": null,
   "id": "f42419f7-0ce4-4b0a-a928-46c042f68109",
   "metadata": {},
   "outputs": [],
   "source": [
    "for i in range(num_classes):\n",
    "    count = 0\n",
    "    _dir = os.listdir(data_dir +\"\\\\\"+classes[i])\n",
    "    for root, dirs, files in os.walk(data_dir):\n",
    "        for file in files: \n",
    "            if file.endswith(').png'):\n",
    "                if file.startswith(classes[i]):\n",
    "                    count += 1    \n",
    "    print('\\n',\"There are\",count,\"data points available in class:\", classes[i],'\\n')"
   ]
  },
  {
   "cell_type": "markdown",
   "id": "383b9033-4289-431a-b122-2ce25cbd018c",
   "metadata": {},
   "source": [
    "From the displayed distribution of data points it can be seen that the dataset is unbalanced towards the benign class. In order to fix the model in the future, there are 4 potential approaches:\n",
    "* Get a larger dataset\n",
    "* Undersampling: Randomly delete the class which has significant observations[2]\n",
    "* Oversampling: Increase the number of observations (make copies of existing samples)[2]\n",
    "* Synthetic Sampling: manufacture observations by sampling nearest neighbours[2]\n",
    "\n",
    "As larger datasets are often not available, the 3 other solutions must strongly be considered. With this particular dataset, deleting the benign class would remove important data from the classification process. This makes undersampling a poor choice for this problem. Synthetic Sampling also quickly becomes a poor choice as this dataset is composed of images which processing/sampling is computationally expensive. Furthermore, the order the images appear in the dataset does describe the dataset. This leaves Oversampling as the best solution, The drawback being that it may cause overfitting in the model."
   ]
  },
  {
   "cell_type": "markdown",
   "id": "13c3fea5",
   "metadata": {},
   "source": [
    "# Conclusion"
   ]
  },
  {
   "cell_type": "markdown",
   "id": "5010ddd4-a6de-479a-a6a3-926b7d40ebfc",
   "metadata": {},
   "source": [
    "Despite the fact that the produced learning model ultimately failed in the goal of correctly identifying breast cancer lesions. It showed that there is significant potential for using deep learning models in Identifying cancers. That is if a significantly large enough and balanced dataset can be acquired, or the correct preprocessing of the data to produce a more balanced model is performed."
   ]
  },
  {
   "cell_type": "markdown",
   "id": "93be65ad",
   "metadata": {},
   "source": [
    "# References"
   ]
  },
  {
   "cell_type": "markdown",
   "id": "3a058012-0b7a-4263-b4d0-a0cb71f32444",
   "metadata": {},
   "source": []
  }
 ],
 "metadata": {
  "kernelspec": {
   "display_name": "Python 3 (ipykernel)",
   "language": "python",
   "name": "python3"
  },
  "language_info": {
   "codemirror_mode": {
    "name": "ipython",
    "version": 3
   },
   "file_extension": ".py",
   "mimetype": "text/x-python",
   "name": "python",
   "nbconvert_exporter": "python",
   "pygments_lexer": "ipython3",
   "version": "3.12.2"
  }
 },
 "nbformat": 4,
 "nbformat_minor": 5
}
